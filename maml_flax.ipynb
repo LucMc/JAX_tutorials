{
 "cells": [
  {
   "cell_type": "code",
   "execution_count": null,
   "metadata": {},
   "outputs": [
    {
     "ename": "",
     "evalue": "",
     "output_type": "error",
     "traceback": [
      "\u001b[1;31mRunning cells with 'lyap' requires the ipykernel package.\n",
      "\u001b[1;31mRun the following command to install 'ipykernel' into the Python environment. \n",
      "\u001b[1;31mCommand: 'conda install -n lyap ipykernel --update-deps --force-reinstall'"
     ]
    }
   ],
   "source": [
    "import jax.numpy as jnp\n",
    "import jax\n",
    "from functools import partial\n",
    "from jax import random\n",
    "import flax\n",
    "import flax.linen as nn\n",
    "from flax.training.train_state import TrainState\n",
    "import optax\n",
    "import matplotlib.pyplot as plt\n",
    "\n",
    "%matplotlib inline"
   ]
  },
  {
   "cell_type": "code",
   "execution_count": null,
   "metadata": {},
   "outputs": [
    {
     "ename": "",
     "evalue": "",
     "output_type": "error",
     "traceback": [
      "\u001b[1;31mRunning cells with 'lyap' requires the ipykernel package.\n",
      "\u001b[1;31mRun the following command to install 'ipykernel' into the Python environment. \n",
      "\u001b[1;31mCommand: 'conda install -n lyap ipykernel --update-deps --force-reinstall'"
     ]
    }
   ],
   "source": [
    "class Net(nn.Module):\n",
    "    n_hidden: int\n",
    "    n_output: int\n",
    "\n",
    "    @nn.compact\n",
    "    def __call__(self, x):\n",
    "        x = nn.relu( nn.Dense(self.n_hidden)(x) )\n",
    "        x = nn.relu( nn.Dense(self.n_hidden)(x) )\n",
    "        x = nn.Dense(self.n_output)(x)\n",
    "        return x\n",
    "    \n",
    "def loss_fn(params, inputs, targets, apply_fn):\n",
    "    predictions = apply_fn(params, inputs)\n",
    "    return jnp.mean((predictions - targets)**2)\n",
    "\n",
    "def inner_update(params, x1, y1, apply_fn, alpha=0.1):\n",
    "    grads = jax.grad(loss_fn)(params, x1, y1, apply_fn)\n",
    "    inner_sgd_fn = lambda g, state: (state - alpha*g)\n",
    "    return jax.tree.map(inner_sgd_fn, grads, params)\n",
    "\n",
    "@jax.jit\n",
    "def meta_update(model_state: TrainState, x1, y1, x2, y2):\n",
    "    def maml_loss(params):\n",
    "        params2 = inner_update(params, x1, y1, model_state.apply_fn)\n",
    "        return loss_fn(params2, x2, y2, model_state.apply_fn)\n",
    "\n",
    "    loss, grads = jax.value_and_grad(maml_loss)(model_state.params)\n",
    "    model_state = model_state.apply_gradients(grads=grads)\n",
    "    return model_state, loss\n",
    "    \n",
    "def create_state(rng, model, in_shape, learning_rate):\n",
    "    params = model.init(rng, jnp.zeros(in_shape))\n",
    "    tx = optax.adam(learning_rate)\n",
    "    return TrainState.create(apply_fn=jax.jit(model.apply), params=params, tx=tx)\n"
   ]
  },
  {
   "cell_type": "code",
   "execution_count": null,
   "metadata": {},
   "outputs": [
    {
     "ename": "",
     "evalue": "",
     "output_type": "error",
     "traceback": [
      "\u001b[1;31mRunning cells with 'lyap' requires the ipykernel package.\n",
      "\u001b[1;31mRun the following command to install 'ipykernel' into the Python environment. \n",
      "\u001b[1;31mCommand: 'conda install -n lyap ipykernel --update-deps --force-reinstall'"
     ]
    }
   ],
   "source": [
    "rng = random.PRNGKey(0)\n",
    "rng, key = random.split(rng)\n",
    "in_shape = (1,1)\n",
    "model = Net(n_hidden=64, n_output=1)\n",
    "model_state = create_state(key, model, in_shape, 0.003)"
   ]
  },
  {
   "cell_type": "code",
   "execution_count": null,
   "metadata": {},
   "outputs": [
    {
     "ename": "",
     "evalue": "",
     "output_type": "error",
     "traceback": [
      "\u001b[1;31mRunning cells with 'lyap' requires the ipykernel package.\n",
      "\u001b[1;31mRun the following command to install 'ipykernel' into the Python environment. \n",
      "\u001b[1;31mCommand: 'conda install -n lyap ipykernel --update-deps --force-reinstall'"
     ]
    }
   ],
   "source": [
    "g = lambda x, y : jnp.square(x) + y\n",
    "x0 = 2.\n",
    "y0 = 1.\n",
    "print(f'grad(g)(x0) = {jax.grad(g)(x0, y0)}')\n",
    "print(f'x0 - grad(g)(x0) = {x0 - jax.grad(g)(x0, y0)}')\n",
    "\n",
    "def maml_objective(x, y):\n",
    "    return g(x - jax.grad(g)(x, y), y)\n",
    "\n",
    "print(f'maml_objective(x,y)={maml_objective(x0, y0)}')\n",
    "print(f'x0 - maml_objective(x,y) = {x0 - jax.grad(maml_objective)(x0,y0)}')"
   ]
  },
  {
   "cell_type": "code",
   "execution_count": null,
   "metadata": {},
   "outputs": [
    {
     "ename": "",
     "evalue": "",
     "output_type": "error",
     "traceback": [
      "\u001b[1;31mRunning cells with 'lyap' requires the ipykernel package.\n",
      "\u001b[1;31mRun the following command to install 'ipykernel' into the Python environment. \n",
      "\u001b[1;31mCommand: 'conda install -n lyap ipykernel --update-deps --force-reinstall'"
     ]
    }
   ],
   "source": [
    "K=20\n",
    "maml_loss = []\n",
    "\n",
    "# Adam optimization\n",
    "for i in range(20_000):\n",
    "    # define the task\n",
    "    rng, key1, key2, key3, key4 = random.split(rng, 5)\n",
    "    A = random.uniform(key1, minval=0.1, maxval=0.5)\n",
    "    phase = random.uniform(key2, minval=0., maxval=jnp.pi)\n",
    "    # Meta training inner split (K examples)\n",
    "    x1 = random.uniform(key3, minval=-5.0, maxval=5.0, shape=(K, 1))\n",
    "    y1 = A * jnp.sin(x1 + phase)\n",
    "    # meta-training outer split (1 example). Like cross-validating wrt one example\n",
    "    x2 = random.uniform(key4, minval=-5.0, maxval=5.0)\n",
    "    y2 = A * jnp.sin(x2 + phase)\n",
    "    x2 = jnp.expand_dims(x2, axis=0)\n",
    "    model_state, loss = meta_update(model_state, x1, y1, x2, y2)\n",
    "    maml_loss.append(loss)\n",
    "    if i % 1000 == 0:\n",
    "        print(i)\n",
    "\n",
    "# net_params = get_params(opt_state)"
   ]
  },
  {
   "cell_type": "code",
   "execution_count": null,
   "metadata": {},
   "outputs": [
    {
     "ename": "",
     "evalue": "",
     "output_type": "error",
     "traceback": [
      "\u001b[1;31mRunning cells with 'lyap' requires the ipykernel package.\n",
      "\u001b[1;31mRun the following command to install 'ipykernel' into the Python environment. \n",
      "\u001b[1;31mCommand: 'conda install -n lyap ipykernel --update-deps --force-reinstall'"
     ]
    }
   ],
   "source": [
    "plt.plot(maml_loss[100:8_000])"
   ]
  },
  {
   "cell_type": "code",
   "execution_count": null,
   "metadata": {},
   "outputs": [
    {
     "ename": "",
     "evalue": "",
     "output_type": "error",
     "traceback": [
      "\u001b[1;31mRunning cells with 'lyap' requires the ipykernel package.\n",
      "\u001b[1;31mRun the following command to install 'ipykernel' into the Python environment. \n",
      "\u001b[1;31mCommand: 'conda install -n lyap ipykernel --update-deps --force-reinstall'"
     ]
    }
   ],
   "source": [
    "xrange_inputs = jnp.linspace(-5,5,100).reshape((100,1))\n",
    "targets = jnp.sin(xrange_inputs)\n",
    "predictions = model_state.apply_fn(model_state.params, xrange_inputs)\n",
    "#predictions = vmap(partial(net_apply, net_params))(xrange_inputs)\n",
    "plt.plot(xrange_inputs, predictions, label='pre-update predictions')\n",
    "plt.plot(xrange_inputs, targets, label='target')\n",
    "\n",
    "rng, key = random.split(rng)\n",
    "x1 = random.uniform(key, minval=-5.0, maxval=5.0, shape=(K,1))\n",
    "y1 = 1.0 * jnp.sin(x1 + 0.)\n",
    "\n",
    "net_params = model_state.params\n",
    "for i in range(1,5):\n",
    "    net_params = inner_update(net_params, x1, y1, model_state.apply_fn)\n",
    "    predictions = model_state.apply_fn(net_params, xrange_inputs)\n",
    "    plt.plot(xrange_inputs, predictions, label=f'{i}-shot predictions')\n",
    "\n",
    "plt.legend()"
   ]
  },
  {
   "cell_type": "code",
   "execution_count": null,
   "metadata": {},
   "outputs": [
    {
     "ename": "",
     "evalue": "",
     "output_type": "error",
     "traceback": [
      "\u001b[1;31mRunning cells with 'lyap' requires the ipykernel package.\n",
      "\u001b[1;31mRun the following command to install 'ipykernel' into the Python environment. \n",
      "\u001b[1;31mCommand: 'conda install -n lyap ipykernel --update-deps --force-reinstall'"
     ]
    }
   ],
   "source": [
    "def sample_tasks(outter_batch_size, inner_batch_size, rng):\n",
    "    As = []\n",
    "    phases = []\n",
    "    for _ in range(outter_batch_size):\n",
    "        rng, key1, key2 = random.split(rng, 3)\n",
    "        As.append(random.uniform(key1, minval=0.1, maxval=0.5))\n",
    "        phases.append(random.uniform(key2, minval=0., maxval=jnp.pi))\n",
    "\n",
    "        def get_batch(rng):\n",
    "            xs, ys = [], []\n",
    "            for A, phase in zip(As, phases):\n",
    "                rng, key = random.split(rng, 2)\n",
    "                x = random.uniform(key, minval=-5.0, maxval=5.0, shape=(inner_batch_size, 1))\n",
    "                y = A * jnp.sin(x + phase)\n",
    "                xs.append(x)\n",
    "                ys.append(y)\n",
    "            return jnp.stack(xs), jnp.stack(ys)\n",
    "    \n",
    "    key1, key2 = random.split(rng)\n",
    "    x1, y1 = get_batch(key1)\n",
    "    x2, y2 = get_batch(key2)\n",
    "    return x1, y1, x2, y2"
   ]
  },
  {
   "cell_type": "code",
   "execution_count": null,
   "metadata": {},
   "outputs": [
    {
     "ename": "",
     "evalue": "",
     "output_type": "error",
     "traceback": [
      "\u001b[1;31mRunning cells with 'lyap' requires the ipykernel package.\n",
      "\u001b[1;31mRun the following command to install 'ipykernel' into the Python environment. \n",
      "\u001b[1;31mCommand: 'conda install -n lyap ipykernel --update-deps --force-reinstall'"
     ]
    }
   ],
   "source": [
    "outer_batch_size = 2\n",
    "rng, key = random.split(rng)\n",
    "x1, y1, x2, y2 = sample_tasks(outer_batch_size, 50, key)\n",
    "for i in range(outer_batch_size):\n",
    "    plt.scatter(x1[i], y1[i], label='task{}-train'.format(i))\n",
    "for i in range(outer_batch_size):\n",
    "    plt.scatter(x2[i], y2[i], label='task{}-val'.format(i))\n",
    "plt.legend()"
   ]
  }
 ],
 "metadata": {
  "kernelspec": {
   "display_name": "llmx",
   "language": "python",
   "name": "python3"
  },
  "language_info": {
   "codemirror_mode": {
    "name": "ipython",
    "version": 3
   },
   "file_extension": ".py",
   "mimetype": "text/x-python",
   "name": "python",
   "nbconvert_exporter": "python",
   "pygments_lexer": "ipython3",
   "version": "3.11.5"
  }
 },
 "nbformat": 4,
 "nbformat_minor": 2
}
